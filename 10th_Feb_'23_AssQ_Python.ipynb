{
 "cells": [
  {
   "cell_type": "code",
   "execution_count": 1,
   "id": "0b13a821-95c8-46f1-8326-bbabe9f54290",
   "metadata": {},
   "outputs": [],
   "source": [
    "# Q1. Which function is used to open a file? What are the different modes of opening a file? Explain each mode\n",
    "# of file opening."
   ]
  },
  {
   "cell_type": "code",
   "execution_count": 2,
   "id": "99aaafa8-8208-4dae-90a3-86713a30402a",
   "metadata": {},
   "outputs": [],
   "source": [
    "# A1. In Python, the open() function is used to open a file. The open() function takes two arguments primarily: the \n",
    "# file path and the mode in which the file should be opened. The general syntax is as follows:\n",
    "# open(filename, mode)\n",
    "# Here, filename is the name of the file you want to open, and mode is a string specifying the mode in which the file should be opened.\n",
    "\n",
    "# There are several modes in which a file can be opened. The most commonly used modes include:\n",
    "\n",
    "# 'r' (read):\n",
    "\n",
    "# Opens the file for reading. The file pointer is placed at the beginning of the file.\n",
    "# If the file does not exist, an IOError will be raised.\n",
    "# Example:\n",
    "# with open('example.txt', 'r') as file:\n",
    "#     content = file.read()\n",
    "\n",
    "\n",
    "# 'w' (write):\n",
    "\n",
    "# Opens the file for writing. If the file already exists, it will be truncated (emptied). If the file does not exist, a new file will be created.\n",
    "# The file pointer is placed at the beginning of the file.\n",
    "# Example:\n",
    "# with open('example.txt', 'w') as file:\n",
    "#     file.write('Hello, World!')\n",
    "\n",
    "\n",
    "# 'a' (append):\n",
    "\n",
    "# Opens the file for writing, but the file pointer is placed at the end of the file.\n",
    "# If the file does not exist, a new file will be created.\n",
    "# Example:\n",
    "# with open('example.txt', 'a') as file:\n",
    "#     file.write('Appending new content.')"
   ]
  },
  {
   "cell_type": "code",
   "execution_count": null,
   "id": "6fdede7d-a9ec-49b4-856a-d0a2a9156ba7",
   "metadata": {},
   "outputs": [],
   "source": []
  },
  {
   "cell_type": "code",
   "execution_count": null,
   "id": "cc6ef3c8-ef46-4e60-af59-2b59e4547444",
   "metadata": {},
   "outputs": [],
   "source": []
  },
  {
   "cell_type": "code",
   "execution_count": null,
   "id": "5b303eb6-03d0-4880-a28e-797df3db74e7",
   "metadata": {},
   "outputs": [],
   "source": []
  },
  {
   "cell_type": "code",
   "execution_count": 3,
   "id": "15306321-7f0e-4f8e-b956-b852134cf967",
   "metadata": {},
   "outputs": [],
   "source": [
    "# Q2. Why close() function is used? Why is it important to close a file?"
   ]
  },
  {
   "cell_type": "code",
   "execution_count": 4,
   "id": "79373d4d-c6ec-42ee-9e37-5869768d4c4c",
   "metadata": {},
   "outputs": [],
   "source": [
    "# A2. A close() function is used to close a file that has been opened using open().\n",
    "# It is important to close a file due to many reasons, but the most important reason is to save the changes made in the file\n",
    "# completely in the memory. If not closed a file may become corrupted."
   ]
  },
  {
   "cell_type": "code",
   "execution_count": null,
   "id": "9bdd060f-e67e-400e-9be2-b6207ec2a774",
   "metadata": {},
   "outputs": [],
   "source": []
  },
  {
   "cell_type": "code",
   "execution_count": null,
   "id": "60ae9465-65ce-46cd-8b8c-114a8e2564d1",
   "metadata": {},
   "outputs": [],
   "source": []
  },
  {
   "cell_type": "code",
   "execution_count": null,
   "id": "411afb87-9838-4b1a-8ac6-2c0c1fb33c01",
   "metadata": {},
   "outputs": [],
   "source": []
  },
  {
   "cell_type": "code",
   "execution_count": null,
   "id": "4f6da735-7b23-4597-8f10-9c94151a2dcf",
   "metadata": {},
   "outputs": [],
   "source": [
    "# Q3. Write a python program to create a text file. Write ‘I want to become a Data Scientist’ in that file. Then\n",
    "# close the file. Open this file and read the content of the file."
   ]
  },
  {
   "cell_type": "code",
   "execution_count": 5,
   "id": "3f9da8cd-f878-4a13-9afc-cabd04f9ee5f",
   "metadata": {},
   "outputs": [
    {
     "name": "stdout",
     "output_type": "stream",
     "text": [
      "Content of the file:\n",
      "I want to become a Data Scientist\n"
     ]
    }
   ],
   "source": [
    "# Step 1: Create a text file and write content to it\n",
    "file_path = 'data_scientist.txt'\n",
    "\n",
    "with open(file_path, 'w') as file:\n",
    "    file.write('I want to become a Data Scientist')\n",
    "\n",
    "# Explicitly closing the file (though 'with' statement already does this)\n",
    "file.close()\n",
    "\n",
    "# Step 2: Open the file and read its contents\n",
    "with open(file_path, 'r') as file:\n",
    "    content = file.read()\n",
    "\n",
    "# Display the content\n",
    "print(\"Content of the file:\")\n",
    "print(content)"
   ]
  },
  {
   "cell_type": "code",
   "execution_count": null,
   "id": "08a40c0c-ef08-475a-84a2-2571ab13e962",
   "metadata": {},
   "outputs": [],
   "source": []
  },
  {
   "cell_type": "code",
   "execution_count": null,
   "id": "7026a3cf-5bd0-4246-af20-59749fd61535",
   "metadata": {},
   "outputs": [],
   "source": []
  },
  {
   "cell_type": "code",
   "execution_count": null,
   "id": "099cc590-2c65-4d46-9ed5-6d64d4c8bf8b",
   "metadata": {},
   "outputs": [],
   "source": []
  },
  {
   "cell_type": "code",
   "execution_count": 6,
   "id": "f4c36d44-6c65-4097-b36a-e142d02c706e",
   "metadata": {},
   "outputs": [],
   "source": [
    "# Q4. Explain the following with python code: read(), readline() and readlines()."
   ]
  },
  {
   "cell_type": "code",
   "execution_count": 8,
   "id": "8b29ee3a-d6b7-4395-a5af-d4589da7959d",
   "metadata": {},
   "outputs": [],
   "source": [
    "# In Python, the read(), readline(), and readlines() methods are used to read data from a file.\n",
    "# Here's an explanation and example code for each:\n",
    "\n",
    "# 1. read()\n",
    "# The read() method reads the entire contents of a file as a string.\n",
    "# with open('example.txt', 'r') as file:\n",
    "#     content = file.read()\n",
    "#     print(content)\n",
    "    \n",
    "    \n",
    "# 2. readline()\n",
    "# The readline() method reads a single line from the file. If called again, it reads the next line.\n",
    "# with open('example.txt', 'r') as file:\n",
    "#     line1 = file.readline()\n",
    "#     line2 = file.readline()\n",
    "#     print(line1)\n",
    "#     print(line2)\n",
    "    \n",
    "    \n",
    "# 3. readlines()\n",
    "# The readlines() method reads all lines from the file and returns a list where each element is a line from the file.\n",
    "# with open('example.txt', 'r') as file:\n",
    "#     lines = file.readlines()\n",
    "#     for line in lines:\n",
    "#         print(line)"
   ]
  },
  {
   "cell_type": "code",
   "execution_count": null,
   "id": "739817a2-9043-4280-bf04-e369cf42f2cd",
   "metadata": {},
   "outputs": [],
   "source": []
  },
  {
   "cell_type": "code",
   "execution_count": null,
   "id": "8b44df13-ca0e-44a9-a8d0-93ba71c2b5b0",
   "metadata": {},
   "outputs": [],
   "source": []
  },
  {
   "cell_type": "code",
   "execution_count": null,
   "id": "2fec5ce4-b2f9-4dcb-922b-c0d625630019",
   "metadata": {},
   "outputs": [],
   "source": []
  },
  {
   "cell_type": "code",
   "execution_count": 9,
   "id": "4686046c-578f-49ac-911b-d8beec551937",
   "metadata": {},
   "outputs": [],
   "source": [
    "# Q5. Explain why with statement is used with open(). What is the advantage of using with statement and\n",
    "# open() together?"
   ]
  },
  {
   "cell_type": "code",
   "execution_count": 12,
   "id": "1020cab1-f8c9-4346-8eaf-63c9dfd08c56",
   "metadata": {},
   "outputs": [],
   "source": [
    "# # A5. The with statement is used with open() because it removes the need of closing the file with close().\n",
    "\n",
    "# Here's an example to illustrate the point:\n",
    "\n",
    "# # Without using with statement\n",
    "# file = open('example.txt', 'r')\n",
    "# content = file.read()\n",
    "# print(content)\n",
    "# file.close()  # Need to explicitly close the file\n",
    "# Now, compare the above code with the one using the with statement:\n",
    "\n",
    "# # Using with statement\n",
    "# with open('example.txt', 'r') as file:\n",
    "#     content = file.read()\n",
    "#     print(content)\n",
    "# # File is automatically closed when the block exits"
   ]
  },
  {
   "cell_type": "code",
   "execution_count": null,
   "id": "a4ac45df-3866-4782-b3b4-98a776d16ff0",
   "metadata": {},
   "outputs": [],
   "source": []
  },
  {
   "cell_type": "code",
   "execution_count": null,
   "id": "c50a1556-47a8-4caa-9741-135161ae6735",
   "metadata": {},
   "outputs": [],
   "source": []
  },
  {
   "cell_type": "code",
   "execution_count": null,
   "id": "d2a3c46c-a43a-4c8d-bec0-cf118e52ea30",
   "metadata": {},
   "outputs": [],
   "source": []
  },
  {
   "cell_type": "code",
   "execution_count": 13,
   "id": "2301cc7c-1207-43ae-97a8-2e132a5ceb1d",
   "metadata": {},
   "outputs": [],
   "source": [
    "# Q6. Explain the write() and writelines() functions. Give a suitable example."
   ]
  },
  {
   "cell_type": "code",
   "execution_count": null,
   "id": "e6fa4781-a34d-4c09-92cf-75c1148cce98",
   "metadata": {},
   "outputs": [],
   "source": [
    "# A6. In Python, the write() and writelines() functions are used to write data to a file.\n",
    "\n",
    "# 1. write()\n",
    "# The write() function is used to write a string to a file. If the file already contains data, \n",
    "# the new content will be appended to the existing content, unless you open the file in write mode ('w'), \n",
    "# in which case it will overwrite the existing content.\n",
    "\n",
    "# # Example using write()\n",
    "# with open('example.txt', 'w') as file:\n",
    "#     file.write('Hello, this is a line of text.\\n')\n",
    "#     file.write('This is another line of text.')\n",
    "# In this example, the content specified in the write() calls is written to the file 'example.txt'. \n",
    "# If the file already exists, its content will be overwritten.\n",
    "\n",
    "\n",
    "\n",
    "# 2. writelines()\n",
    "# The writelines() function is used to write a list of strings to a file. It does not add line breaks by default, \n",
    "# so you need to include them in the strings if you want new lines.\n",
    "\n",
    "# # Example using writelines()\n",
    "# lines = ['First line of text.\\n', 'Second line of text.\\n', 'Third line of text.']\n",
    "# with open('example.txt', 'w') as file:\n",
    "#     file.writelines(lines)\n",
    "# In this example, the list lines is written to the file 'example.txt'. Each string in the list is written as a separate line."
   ]
  }
 ],
 "metadata": {
  "kernelspec": {
   "display_name": "Python 3 (ipykernel)",
   "language": "python",
   "name": "python3"
  },
  "language_info": {
   "codemirror_mode": {
    "name": "ipython",
    "version": 3
   },
   "file_extension": ".py",
   "mimetype": "text/x-python",
   "name": "python",
   "nbconvert_exporter": "python",
   "pygments_lexer": "ipython3",
   "version": "3.10.8"
  }
 },
 "nbformat": 4,
 "nbformat_minor": 5
}
